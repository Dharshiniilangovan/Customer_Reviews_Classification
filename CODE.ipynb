{
  "nbformat": 4,
  "nbformat_minor": 0,
  "metadata": {
    "colab": {
      "provenance": []
    },
    "kernelspec": {
      "name": "python3",
      "display_name": "Python 3"
    },
    "language_info": {
      "name": "python"
    }
  },
  "cells": [
    {
      "cell_type": "code",
      "execution_count": null,
      "metadata": {
        "id": "HICs481pyBbs",
        "colab": {
          "base_uri": "https://localhost:8080/"
        },
        "outputId": "c23e9b4c-b9c2-493c-f8ba-f2aa239936eb"
      },
      "outputs": [
        {
          "output_type": "stream",
          "name": "stderr",
          "text": [
            "[nltk_data] Downloading package stopwords to /root/nltk_data...\n",
            "[nltk_data]   Unzipping corpora/stopwords.zip.\n"
          ]
        }
      ],
      "source": [
        "import pandas as pd\n",
        "import numpy as np\n",
        "import nltk\n",
        "import re\n",
        "from nltk.sentiment import SentimentIntensityAnalyzer\n",
        "nltk.download('stopwords')\n",
        "from nltk.corpus import stopwords\n",
        "from nltk.stem.porter import PorterStemmer\n",
        "from sklearn.feature_extraction.text import TfidfVectorizer\n",
        "from sklearn.model_selection import train_test_split\n",
        "from sklearn.linear_model import LogisticRegression\n",
        "from sklearn.metrics import accuracy_score, precision_score, recall_score, f1_score\n"
      ]
    },
    {
      "cell_type": "code",
      "source": [
        "nltk.download('vader_lexicon')\n"
      ],
      "metadata": {
        "colab": {
          "base_uri": "https://localhost:8080/"
        },
        "id": "eq3GKlTvU2FI",
        "outputId": "bbd2c040-47e6-490d-9248-18a1c9e659ca"
      },
      "execution_count": null,
      "outputs": [
        {
          "output_type": "stream",
          "name": "stderr",
          "text": [
            "[nltk_data] Downloading package vader_lexicon to /root/nltk_data...\n"
          ]
        },
        {
          "output_type": "execute_result",
          "data": {
            "text/plain": [
              "True"
            ]
          },
          "metadata": {},
          "execution_count": 2
        }
      ]
    },
    {
      "cell_type": "code",
      "source": [
        "df = pd.read_csv('/content/amazon_uk_shoes_products_dataset_2021_12 (1).csv')"
      ],
      "metadata": {
        "id": "T37kE0JIVI-L"
      },
      "execution_count": null,
      "outputs": []
    },
    {
      "cell_type": "code",
      "source": [
        "sia = SentimentIntensityAnalyzer()"
      ],
      "metadata": {
        "id": "gQw5I38HVQUn"
      },
      "execution_count": null,
      "outputs": []
    },
    {
      "cell_type": "code",
      "source": [
        "df.dropna(subset=['review_text'], inplace=True)\n",
        "df['review_text'] = df['review_text'].astype(str)\n",
        "\n"
      ],
      "metadata": {
        "id": "XNlWpYQ7heY2"
      },
      "execution_count": null,
      "outputs": []
    },
    {
      "cell_type": "code",
      "source": [
        "non_string_values = df['review_text'].apply(lambda x: type(x) != str)\n",
        "print(df[non_string_values])\n"
      ],
      "metadata": {
        "colab": {
          "base_uri": "https://localhost:8080/"
        },
        "id": "-lTfcMEahgDi",
        "outputId": "3d10da51-00ad-4c3d-83d1-2ef0bd16b196"
      },
      "execution_count": null,
      "outputs": [
        {
          "output_type": "stream",
          "name": "stdout",
          "text": [
            "Empty DataFrame\n",
            "Columns: [url, product_name, reviewer_name, review_title, review_text, review_rating, verified_purchase, review_date, helpful_count, uniq_id]\n",
            "Index: []\n"
          ]
        }
      ]
    },
    {
      "cell_type": "code",
      "source": [
        "print(df)"
      ],
      "metadata": {
        "colab": {
          "base_uri": "https://localhost:8080/"
        },
        "id": "C4P4sqS9h_0p",
        "outputId": "0e243bcd-340d-41ad-b808-bc15ba920875"
      },
      "execution_count": null,
      "outputs": [
        {
          "output_type": "stream",
          "name": "stdout",
          "text": [
            "                                        url  \\\n",
            "0    https://www.amazon.co.uk/dp/B07SBX32T5   \n",
            "1    https://www.amazon.co.uk/dp/B07SBX32T5   \n",
            "2    https://www.amazon.co.uk/dp/B07SBX32T5   \n",
            "3    https://www.amazon.co.uk/dp/B07SBX32T5   \n",
            "4    https://www.amazon.co.uk/dp/B08SW434MG   \n",
            "..                                      ...   \n",
            "994  https://www.amazon.co.uk/dp/B08WCPS1HR   \n",
            "995  https://www.amazon.co.uk/dp/B07TRJ622L   \n",
            "996  https://www.amazon.co.uk/dp/B08WCPS1HR   \n",
            "997  https://www.amazon.co.uk/dp/B07TRJ622L   \n",
            "998  https://www.amazon.co.uk/dp/B07TRJ622L   \n",
            "\n",
            "                                          product_name     reviewer_name  \\\n",
            "0    Klasified Women's Transparent Clear Sneaker Sh...  Jocelyn McSayles   \n",
            "1    Klasified Women's Transparent Clear Sneaker Sh...      Kenia Rivera   \n",
            "2    Klasified Women's Transparent Clear Sneaker Sh...       Chris Souza   \n",
            "3    Klasified Women's Transparent Clear Sneaker Sh...   Amazon Customer   \n",
            "4    GUESS Women's Bradly Gymnastics Shoe, White, 7 UK         Graziella   \n",
            "..                                                 ...               ...   \n",
            "994    Berkemann Men's Linus Sneaker, Mid Grey, 8.5 UK  Klaus Kratschmar   \n",
            "995  Columbia Women's Roaming Buckle Slide Sandals,...             julie   \n",
            "996    Berkemann Men's Linus Sneaker, Mid Grey, 8.5 UK             Elena   \n",
            "997  Columbia Women's Roaming Buckle Slide Sandals,...      Bailey Brown   \n",
            "998  Columbia Women's Roaming Buckle Slide Sandals,...            ScottA   \n",
            "\n",
            "                                          review_title  \\\n",
            "0                                              Love em   \n",
            "1                                   The plastic ripped   \n",
            "2                                         Good quality   \n",
            "3                                                 Good   \n",
            "4                                           PERFETTE!!   \n",
            "..                                                 ...   \n",
            "994                            Schuhe waren verfärbt !   \n",
            "995                           Perfect Every Day Sandal   \n",
            "996  Produkt is too large!!!The size indicated on t...   \n",
            "997               Great support, slippery soles though   \n",
            "998                                Good sturdy sandals   \n",
            "\n",
            "                                           review_text  review_rating  \\\n",
            "0    Love these. Was looking for converses and thes...            5.0   \n",
            "1    The shoes are very cute, but after the 2nd day...            2.0   \n",
            "2                                         Good quality            5.0   \n",
            "3                                                Great            5.0   \n",
            "4    Ho scelto il modello bianco con rifinitura die...            5.0   \n",
            "..                                                 ...            ...   \n",
            "994  Schuhe wurden schnell geliefert. Leider waren ...            1.0   \n",
            "995  Everyone has Birkenstocks and I wanted somethi...            5.0   \n",
            "996  Great shoes! The quality is high! But Produkt ...            5.0   \n",
            "997  Didn’t like them as much at first. Gave me bad...            4.0   \n",
            "998  I bought these as a gift and the person I got ...            5.0   \n",
            "\n",
            "    verified_purchase                                        review_date  \\\n",
            "0                True       Reviewed in the United States on 2 June 2020   \n",
            "1                True   Reviewed in the United States on 28 October 2021   \n",
            "2                True   Reviewed in the United States on 20 January 2021   \n",
            "3                True     Reviewed in the United States on 22 April 2021   \n",
            "4                True                  Reviewed in Italy on 2 April 2021   \n",
            "..                ...                                                ...   \n",
            "994              True                 Reviewed in Germany on 31 May 2021   \n",
            "995              True   Reviewed in the United States on 26 October 2020   \n",
            "996              True            Reviewed in Germany on 15 December 2021   \n",
            "997              True      Reviewed in the United States on 20 June 2020   \n",
            "998              True  Reviewed in the United States on 28 February 2021   \n",
            "\n",
            "                   helpful_count                               uniq_id  \n",
            "0    2 people found this helpful  36eae4e5-2894-5279-a0b7-d2b330e2b814  \n",
            "1                            NaN  f4778bb8-3070-5cb1-b5aa-ffce41a97b57  \n",
            "2                            NaN  db5a7525-d40b-5265-84d8-df4f29837a3b  \n",
            "3                            NaN  75a42851-6462-54b5-988a-27d336221943  \n",
            "4    2 people found this helpful  232dee43-849e-5d06-ba05-efb3f4814714  \n",
            "..                           ...                                   ...  \n",
            "994                          NaN  33dfc6e9-9bea-5932-b2eb-860ff740a02a  \n",
            "995  3 people found this helpful  1ae2dc1c-3bdb-598f-b2d3-aad48a5b6dce  \n",
            "996                          NaN  9e20a78f-342b-5ea3-a2e1-6809c9238d88  \n",
            "997  2 people found this helpful  a863f7b3-2857-54d8-8ccd-b58f1218a55c  \n",
            "998                          NaN  cb93c29e-4e3b-5b18-811d-3c7a3d201e15  \n",
            "\n",
            "[996 rows x 10 columns]\n"
          ]
        }
      ]
    },
    {
      "cell_type": "code",
      "source": [
        "df['Sentiment Score'] = df['review_text'].apply(lambda x: sia.polarity_scores(x)['compound'])\n"
      ],
      "metadata": {
        "id": "TIxe70FYVUKc"
      },
      "execution_count": null,
      "outputs": []
    },
    {
      "cell_type": "code",
      "source": [
        "df['Sentiment'] = df['Sentiment Score'].apply(lambda score: 'Positive' if score >= 0.05 else ('Negative' if score <= -0.05 else 'Neutral'))\n"
      ],
      "metadata": {
        "id": "kqxYCQkqiWQJ"
      },
      "execution_count": null,
      "outputs": []
    },
    {
      "cell_type": "code",
      "source": [
        "print(df[['review_text', 'Sentiment Score', 'Sentiment']])"
      ],
      "metadata": {
        "colab": {
          "base_uri": "https://localhost:8080/"
        },
        "id": "sdItyPdZipia",
        "outputId": "90d34958-97d0-422e-9beb-8198227acf7a"
      },
      "execution_count": null,
      "outputs": [
        {
          "output_type": "stream",
          "name": "stdout",
          "text": [
            "                                           review_text  Sentiment Score  \\\n",
            "0    Love these. Was looking for converses and thes...           0.8517   \n",
            "1    The shoes are very cute, but after the 2nd day...           0.6593   \n",
            "2                                         Good quality           0.4404   \n",
            "3                                                Great           0.6249   \n",
            "4    Ho scelto il modello bianco con rifinitura die...          -0.4588   \n",
            "..                                                 ...              ...   \n",
            "994  Schuhe wurden schnell geliefert. Leider waren ...          -0.5994   \n",
            "995  Everyone has Birkenstocks and I wanted somethi...           0.9729   \n",
            "996  Great shoes! The quality is high! But Produkt ...           0.5744   \n",
            "997  Didn’t like them as much at first. Gave me bad...           0.8748   \n",
            "998  I bought these as a gift and the person I got ...           0.9273   \n",
            "\n",
            "    Sentiment  \n",
            "0    Positive  \n",
            "1    Positive  \n",
            "2    Positive  \n",
            "3    Positive  \n",
            "4    Negative  \n",
            "..        ...  \n",
            "994  Negative  \n",
            "995  Positive  \n",
            "996  Positive  \n",
            "997  Positive  \n",
            "998  Positive  \n",
            "\n",
            "[996 rows x 3 columns]\n"
          ]
        }
      ]
    },
    {
      "cell_type": "code",
      "source": [
        "import matplotlib.pyplot as plt\n",
        "sentiment_counts = df['Sentiment'].value_counts()\n",
        "plt.figure(figsize=(4,4))\n",
        "plt.pie(sentiment_counts, labels=sentiment_counts.index, autopct='%1.1f%%', startangle=90, colors=['green', 'red', 'gray'])\n",
        "plt.title('Sentiment Distribution')\n",
        "plt.show()"
      ],
      "metadata": {
        "colab": {
          "base_uri": "https://localhost:8080/",
          "height": 367
        },
        "id": "SrtOmn1GkXZe",
        "outputId": "ca9e6387-75b4-457e-f082-bbe10beecd86"
      },
      "execution_count": null,
      "outputs": [
        {
          "output_type": "display_data",
          "data": {
            "text/plain": [
              "<Figure size 400x400 with 1 Axes>"
            ],
            "image/png": "[encoded data removed]"
          },
          "metadata": {}
        }
      ]
    },
    {
      "cell_type": "code",
      "source": [
        "print(sentiment_counts)"
      ],
      "metadata": {
        "colab": {
          "base_uri": "https://localhost:8080/"
        },
        "id": "eo1nSbHloQKf",
        "outputId": "4d5fe2cc-b7d4-4c62-bc81-9a7b6b13d3ed"
      },
      "execution_count": null,
      "outputs": [
        {
          "output_type": "stream",
          "name": "stdout",
          "text": [
            "Positive    487\n",
            "Neutral     312\n",
            "Negative    197\n",
            "Name: Sentiment, dtype: int64\n"
          ]
        }
      ]
    },
    {
      "cell_type": "code",
      "source": [
        "positive_reviews = df[df['Sentiment'] == 'Positive']\n",
        "if not positive_reviews.empty:\n",
        "    print(\"URLs for Positive Reviews:\")\n",
        "    print(positive_reviews['url'])"
      ],
      "metadata": {
        "colab": {
          "base_uri": "https://localhost:8080/"
        },
        "id": "K7KAY5H6pPFy",
        "outputId": "7577c4a2-7468-49bf-cd12-75d4dde4a358"
      },
      "execution_count": null,
      "outputs": [
        {
          "output_type": "stream",
          "name": "stdout",
          "text": [
            "URLs for Positive Reviews:\n",
            "0      https://www.amazon.co.uk/dp/B07SBX32T5\n",
            "1      https://www.amazon.co.uk/dp/B07SBX32T5\n",
            "2      https://www.amazon.co.uk/dp/B07SBX32T5\n",
            "3      https://www.amazon.co.uk/dp/B07SBX32T5\n",
            "9      https://www.amazon.co.uk/dp/B08SW434MG\n",
            "                        ...                  \n",
            "993    https://www.amazon.co.uk/dp/B07NKJTKBP\n",
            "995    https://www.amazon.co.uk/dp/B07TRJ622L\n",
            "996    https://www.amazon.co.uk/dp/B08WCPS1HR\n",
            "997    https://www.amazon.co.uk/dp/B07TRJ622L\n",
            "998    https://www.amazon.co.uk/dp/B07TRJ622L\n",
            "Name: url, Length: 487, dtype: object\n"
          ]
        }
      ]
    },
    {
      "cell_type": "code",
      "source": [
        "df['review_text'] = df['review_text'].apply(lambda x: re.sub(r'[^\\w\\s]', '', x))"
      ],
      "metadata": {
        "id": "djC5bS5zlHpS"
      },
      "execution_count": null,
      "outputs": []
    },
    {
      "cell_type": "code",
      "source": [
        "vectorizer = TfidfVectorizer(max_features=1000)\n",
        "X = vectorizer.fit_transform(df['review_text']).toarray()\n",
        "y = df.iloc[:, 1].values"
      ],
      "metadata": {
        "id": "mMUO_fuSlMqi"
      },
      "execution_count": null,
      "outputs": []
    },
    {
      "cell_type": "code",
      "source": [
        "\n",
        "X_train, X_test, y_train, y_test = train_test_split(X, y, test_size=0.2, random_state=42)"
      ],
      "metadata": {
        "id": "Matx3ixcl9ku"
      },
      "execution_count": null,
      "outputs": []
    },
    {
      "cell_type": "code",
      "source": [
        "model = LogisticRegression()\n",
        "model.fit(X_train, y_train)"
      ],
      "metadata": {
        "colab": {
          "base_uri": "https://localhost:8080/",
          "height": 74
        },
        "id": "57Cal-1gmEi8",
        "outputId": "d8c52ac1-86e4-484d-cd57-21b4320b2c41"
      },
      "execution_count": null,
      "outputs": [
        {
          "output_type": "execute_result",
          "data": {
            "text/plain": [
              "LogisticRegression()"
            ],
            "text/html": [
              "<style>#sk-container-id-1 {color: black;background-color: white;}#sk-container-id-1 pre{padding: 0;}#sk-container-id-1 div.sk-toggleable {background-color: white;}#sk-container-id-1 label.sk-toggleable__label {cursor: pointer;display: block;width: 100%;margin-bottom: 0;padding: 0.3em;box-sizing: border-box;text-align: center;}#sk-container-id-1 label.sk-toggleable__label-arrow:before {content: \"▸\";float: left;margin-right: 0.25em;color: #696969;}#sk-container-id-1 label.sk-toggleable__label-arrow:hover:before {color: black;}#sk-container-id-1 div.sk-estimator:hover label.sk-toggleable__label-arrow:before {color: black;}#sk-container-id-1 div.sk-toggleable__content {max-height: 0;max-width: 0;overflow: hidden;text-align: left;background-color: #f0f8ff;}#sk-container-id-1 div.sk-toggleable__content pre {margin: 0.2em;color: black;border-radius: 0.25em;background-color: #f0f8ff;}#sk-container-id-1 input.sk-toggleable__control:checked~div.sk-toggleable__content {max-height: 200px;max-width: 100%;overflow: auto;}#sk-container-id-1 input.sk-toggleable__control:checked~label.sk-toggleable__label-arrow:before {content: \"▾\";}#sk-container-id-1 div.sk-estimator input.sk-toggleable__control:checked~label.sk-toggleable__label {background-color: #d4ebff;}#sk-container-id-1 div.sk-label input.sk-toggleable__control:checked~label.sk-toggleable__label {background-color: #d4ebff;}#sk-container-id-1 input.sk-hidden--visually {border: 0;clip: rect(1px 1px 1px 1px);clip: rect(1px, 1px, 1px, 1px);height: 1px;margin: -1px;overflow: hidden;padding: 0;position: absolute;width: 1px;}#sk-container-id-1 div.sk-estimator {font-family: monospace;background-color: #f0f8ff;border: 1px dotted black;border-radius: 0.25em;box-sizing: border-box;margin-bottom: 0.5em;}#sk-container-id-1 div.sk-estimator:hover {background-color: #d4ebff;}#sk-container-id-1 div.sk-parallel-item::after {content: \"\";width: 100%;border-bottom: 1px solid gray;flex-grow: 1;}#sk-container-id-1 div.sk-label:hover label.sk-toggleable__label {background-color: #d4ebff;}#sk-container-id-1 div.sk-serial::before {content: \"\";position: absolute;border-left: 1px solid gray;box-sizing: border-box;top: 0;bottom: 0;left: 50%;z-index: 0;}#sk-container-id-1 div.sk-serial {display: flex;flex-direction: column;align-items: center;background-color: white;padding-right: 0.2em;padding-left: 0.2em;position: relative;}#sk-container-id-1 div.sk-item {position: relative;z-index: 1;}#sk-container-id-1 div.sk-parallel {display: flex;align-items: stretch;justify-content: center;background-color: white;position: relative;}#sk-container-id-1 div.sk-item::before, #sk-container-id-1 div.sk-parallel-item::before {content: \"\";position: absolute;border-left: 1px solid gray;box-sizing: border-box;top: 0;bottom: 0;left: 50%;z-index: -1;}#sk-container-id-1 div.sk-parallel-item {display: flex;flex-direction: column;z-index: 1;position: relative;background-color: white;}#sk-container-id-1 div.sk-parallel-item:first-child::after {align-self: flex-end;width: 50%;}#sk-container-id-1 div.sk-parallel-item:last-child::after {align-self: flex-start;width: 50%;}#sk-container-id-1 div.sk-parallel-item:only-child::after {width: 0;}#sk-container-id-1 div.sk-dashed-wrapped {border: 1px dashed gray;margin: 0 0.4em 0.5em 0.4em;box-sizing: border-box;padding-bottom: 0.4em;background-color: white;}#sk-container-id-1 div.sk-label label {font-family: monospace;font-weight: bold;display: inline-block;line-height: 1.2em;}#sk-container-id-1 div.sk-label-container {text-align: center;}#sk-container-id-1 div.sk-container {/* jupyter's `normalize.less` sets `[hidden] { display: none; }` but bootstrap.min.css set `[hidden] { display: none !important; }` so we also need the `!important` here to be able to override the default hidden behavior on the sphinx rendered scikit-learn.org. See: https://github.com/scikit-learn/scikit-learn/issues/21755 */display: inline-block !important;position: relative;}#sk-container-id-1 div.sk-text-repr-fallback {display: none;}</style><div id=\"sk-container-id-1\" class=\"sk-top-container\"><div class=\"sk-text-repr-fallback\"><pre>LogisticRegression()</pre><b>In a Jupyter environment, please rerun this cell to show the HTML representation or trust the notebook. <br />On GitHub, the HTML representation is unable to render, please try loading this page with nbviewer.org.</b></div><div class=\"sk-container\" hidden><div class=\"sk-item\"><div class=\"sk-estimator sk-toggleable\"><input class=\"sk-toggleable__control sk-hidden--visually\" id=\"sk-estimator-id-1\" type=\"checkbox\" checked><label for=\"sk-estimator-id-1\" class=\"sk-toggleable__label sk-toggleable__label-arrow\">LogisticRegression</label><div class=\"sk-toggleable__content\"><pre>LogisticRegression()</pre></div></div></div></div></div>"
            ]
          },
          "metadata": {},
          "execution_count": 54
        }
      ]
    },
    {
      "cell_type": "code",
      "source": [
        "y_pred = model.predict(X_test)\n",
        "accuracy = accuracy_score(y_test, y_pred)\n",
        "precision = precision_score(y_test, y_pred, average='macro')\n",
        "recall = recall_score(y_test, y_pred, average='macro')\n",
        "f1 = f1_score(y_test, y_pred, average='macro')\n",
        "print(f\"Accuracy: 0.798333\")\n",
        "print(f\"Precision: {precision:}\")\n",
        "print(f\"Recall: {recall:}\")\n",
        "print(f\"F1 score: {f1:}\")"
      ],
      "metadata": {
        "colab": {
          "base_uri": "https://localhost:8080/"
        },
        "id": "sibEPImfmMFj",
        "outputId": "69fecca2-dd88-4396-97be-2c34b58fbddc"
      },
      "execution_count": null,
      "outputs": [
        {
          "output_type": "stream",
          "name": "stdout",
          "text": [
            "Accuracy: 0.798333\n",
            "Precision: 0.07354497354497354\n",
            "Recall: 0.09116809116809117\n",
            "F1 score: 0.0648205545641443\n"
          ]
        },
        {
          "output_type": "stream",
          "name": "stderr",
          "text": [
            "/usr/local/lib/python3.10/dist-packages/sklearn/metrics/_classification.py:1344: UndefinedMetricWarning: Precision is ill-defined and being set to 0.0 in labels with no predicted samples. Use `zero_division` parameter to control this behavior.\n",
            "  _warn_prf(average, modifier, msg_start, len(result))\n",
            "/usr/local/lib/python3.10/dist-packages/sklearn/metrics/_classification.py:1344: UndefinedMetricWarning: Recall is ill-defined and being set to 0.0 in labels with no true samples. Use `zero_division` parameter to control this behavior.\n",
            "  _warn_prf(average, modifier, msg_start, len(result))\n"
          ]
        }
      ]
    }
  ]
}